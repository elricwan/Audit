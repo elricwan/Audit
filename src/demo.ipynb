{
 "cells": [
  {
   "cell_type": "markdown",
   "metadata": {},
   "source": [
    "# generate dynamic pdf based on html template"
   ]
  },
  {
   "cell_type": "code",
   "execution_count": 4,
   "metadata": {},
   "outputs": [
    {
     "ename": "",
     "evalue": "",
     "output_type": "error",
     "traceback": [
      "\u001b[1;31mThe Kernel crashed while executing code in the current cell or a previous cell. \n",
      "\u001b[1;31mPlease review the code in the cell(s) to identify a possible cause of the failure. \n",
      "\u001b[1;31mClick <a href='https://aka.ms/vscodeJupyterKernelCrash'>here</a> for more info. \n",
      "\u001b[1;31mView Jupyter <a href='command:jupyter.viewOutput'>log</a> for further details."
     ]
    }
   ],
   "source": [
    "from jinja2 import Environment, FileSystemLoader\n",
    "from weasyprint import HTML\n",
    "\n",
    "# Prepare data\n",
    "data = {\n",
    "    \"Account_Number\": \"123-456-789\",\n",
    "    \"Statement_Date\": \"2024-03-01\",\n",
    "    \"Period_Covered\": \"2024-02-01 to 2024-02-29\",\n",
    "    \"name\": \"John Doe\",\n",
    "    \"address_line1\": \"2450 Courage St, STE 108\",\n",
    "    \"address_line2\": \"Brownsville, TX 78521\",\n",
    "    \"Opening_Balance\": \"175,800.00\",\n",
    "    \"Total_Credit_Amount\": \"510,000.00\",\n",
    "    \"Total_Debit_Amount\": \"94,000.00\",\n",
    "    \"Closing_Balance\": \"591,800.00\",\n",
    "    \"Account_Type\": \"Savings\",\n",
    "    \"Number_Transactions\": \"10\",\n",
    "    \"transactions\": [\n",
    "        {\"Date\": \"2024-03-01\", \"Description\": \"Coffee Shop\", \"Credit\": \"$50.00\", \"Debit\": \"-$5.00\", \"Balance\": \"$995.00\"},\n",
    "        {\"Date\": \"2024-03-01\", \"Description\": \"Online Purchase\", \"Credit\": \"$121.51\", \"Debit\": \"-\", \"Balance\": \"$1,116.51\"}, \n",
    "        {\"Date\": \"2024-03-02\", \"Description\": \"Coffee Shop\", \"Credit\": \"$143.06\", \"Debit\": \"-\", \"Balance\": \"$1,259.57\"}, \n",
    "        {\"Date\": \"2024-03-03\", \"Description\": \"Utility Bill\", \"Credit\": \"-\", \"Debit\": \"-$60.72\", \"Balance\": \"$1,198.85\"}, \n",
    "    ]\n",
    "}\n",
    "loan = {\n",
    "    \"title\": \"Personal Loan Application\",\n",
    "    \"form_title\": \"Apply for a Personal Loan\",\n",
    "    \"form_action\": \"/submit-loan-application\",\n",
    "    \"applicant\": {\n",
    "        \"first_name\": \"John\",\n",
    "        \"last_name\": \"Doe\",\n",
    "        \"dob\": \"1980-01-01\",\n",
    "        \"email\": \"johndoe@example.com\",\n",
    "        \"phone\": \"123-456-7890\",\n",
    "        \"address\": \"123 Main St, Anytown, AN\",\n",
    "        \"annual_income\": 50000,\n",
    "        \"other_income\": 5000,\n",
    "        \"monthly_expenses\": 2000\n",
    "    },\n",
    "    \"employment_statuses\": [\"Employed\", \"Self-employed\", \"Unemployed\", \"Retired\", \"Student\"],\n",
    "    \"loan_purposes\": {\n",
    "        \"debtConsolidation\": \"Debt Consolidation\",\n",
    "        \"homeImprovement\": \"Home Improvement\",\n",
    "        \"vehiclePurchase\": \"Vehicle Purchase\",\n",
    "        \"medicalExpenses\": \"Medical Expenses\",\n",
    "        \"other\": \"Other\"\n",
    "    },\n",
    "    \"loan_details\": {\n",
    "        \"amount\": 15000,\n",
    "        \"purpose\": \"debtConsolidation\",\n",
    "        \"term\": 5,\n",
    "        \"interest_rate\": \"5.5%\"\n",
    "    }\n",
    "}\n",
    "\n",
    "\n",
    "# Load template\n",
    "env = Environment(loader=FileSystemLoader(''))\n",
    "#template = env.get_template('html/statement-template-2.html')\n",
    "template = env.get_template('html/loan-template-1.html')\n",
    "\n",
    "# Render HTML content\n",
    "#html_content = template.render(transactions=transactions)\n",
    "#html_content = template.render(**data)\n",
    "html_content = template.render(**loan)\n",
    "\n",
    "# Generate PDF\n",
    "HTML(string=html_content).write_pdf('pdf/loan_statement.pdf')"
   ]
  },
  {
   "cell_type": "markdown",
   "metadata": {},
   "source": [
    "# convert pdf to image "
   ]
  },
  {
   "cell_type": "code",
   "execution_count": 32,
   "metadata": {},
   "outputs": [
    {
     "data": {
      "text/plain": [
       "True"
      ]
     },
     "execution_count": 32,
     "metadata": {},
     "output_type": "execute_result"
    }
   ],
   "source": [
    "import pdf2image\n",
    "import numpy as np\n",
    "import cv2\n",
    "def pdftopages(path):\n",
    "    \"\"\"Input: PDF Filepath, Output: List of Page objects.\"\"\"\n",
    "    pil_pages = pdf2image.convert_from_path(path)\n",
    "    #save_pil_images(pil_pages, os.path.join(local_store_folder, self.name + \"pages\"))\n",
    "    page_imgs = [cv2.cvtColor(np.asarray(p), cv2.COLOR_RGB2BGR) for p in pil_pages]\n",
    "    return page_imgs\n",
    "imgs = pdftopages('pdf/bank_statement.pdf')\n",
    "cv2.imwrite('img/bk.png', imgs[0])"
   ]
  },
  {
   "cell_type": "code",
   "execution_count": 1,
   "metadata": {},
   "outputs": [
    {
     "name": "stdout",
     "output_type": "stream",
     "text": [
      "['/home/bin.liang/Documents/04-team/NetMind_AI_XYZ/example/audit', '/home/bin.liang/anaconda3/envs/bs_agent/lib/python310.zip', '/home/bin.liang/anaconda3/envs/bs_agent/lib/python3.10', '/home/bin.liang/anaconda3/envs/bs_agent/lib/python3.10/lib-dynload', '', '/home/bin.liang/.local/lib/python3.10/site-packages', '/home/bin.liang/anaconda3/envs/bs_agent/lib/python3.10/site-packages', '/home/bin.liang/Documents/04-team/NetMind_AI_XYZ']\n"
     ]
    },
    {
     "name": "stdout",
     "output_type": "stream",
     "text": [
      "pre: []\n",
      "\n",
      "=====\n",
      "{'Account_Number': '987-654-321', 'Statement_Date': '2024-05-01', 'Period_Covered': '2024-04-01 to 2024-04-30', 'name': 'Alice Johnson', 'address_line1': '789 Liberty Ave, Unit 2', 'address_line2': 'Springfield, IL 62704', 'Opening_Balance': '200,000.00', 'Total_Credit_Amount': '65,000.00', 'Total_Debit_Amount': '15,000.00', 'Closing_Balance': '250,000.00', 'Account_Type': 'Checking', 'Number_Transactions': '8', 'transactions': [{'Date': '2024-04-02', 'Description': 'Grocery Store', 'Credit': '-', 'Debit': '-$350.00', 'Balance': '$199,650.00'}, {'Date': '2024-04-05', 'Description': 'Direct Deposit', 'Credit': '$50,000.00', 'Debit': '-', 'Balance': '$249,650.00'}, {'Date': '2024-04-07', 'Description': 'Pharmacy', 'Credit': '-', 'Debit': '-$120.00', 'Balance': '$249,530.00'}, {'Date': '2024-04-10', 'Description': 'Utility Bill', 'Credit': '-', 'Debit': '-$200.00', 'Balance': '$249,330.00'}, {'Date': '2024-04-15', 'Description': 'Online Shopping', 'Credit': '-', 'Debit': '-$1,330.00', 'Balance': '$248,000.00'}, {'Date': '2024-04-18', 'Description': 'Car Loan Payment', 'Credit': '-', 'Debit': '-$1,000.00', 'Balance': '$247,000.00'}, {'Date': '2024-04-22', 'Description': 'Direct Deposit', 'Credit': '$15,000.00', 'Debit': '-', 'Balance': '$262,000.00'}, {'Date': '2024-04-25', 'Description': 'Dining Out', 'Credit': '-', 'Debit': '-$150.00', 'Balance': '$261,850.00'}]}\n",
      "1\n",
      "pre: []\n",
      "\n",
      "=====\n",
      "{'Account_Number': '456-789-123', 'Statement_Date': '2024-06-01', 'Period_Covered': '2024-05-01 to 2024-05-31', 'name': 'Michael Smith', 'address_line1': '1122 Freedom Rd, Apt 305', 'address_line2': 'Nashville, TN 37209', 'Opening_Balance': '120,000.00', 'Total_Credit_Amount': '30,000.00', 'Total_Debit_Amount': '10,000.00', 'Closing_Balance': '140,000.00', 'Account_Type': 'Savings', 'Number_Transactions': '6', 'transactions': [{'Date': '2024-05-03', 'Description': 'Bookstore Purchase', 'Credit': '-', 'Debit': '-$200.00', 'Balance': '$119,800.00'}, {'Date': '2024-05-06', 'Description': 'Salary Deposit', 'Credit': '$20,000.00', 'Debit': '-', 'Balance': '$139,800.00'}, {'Date': '2024-05-10', 'Description': 'Electric Bill', 'Credit': '-', 'Debit': '-$150.00', 'Balance': '$139,650.00'}, {'Date': '2024-05-15', 'Description': 'Gym Membership', 'Credit': '-', 'Debit': '-$50.00', 'Balance': '$139,600.00'}, {'Date': '2024-05-20', 'Description': 'Freelance Payment', 'Credit': '$10,000.00', 'Debit': '-', 'Balance': '$149,600.00'}, {'Date': '2024-05-25', 'Description': 'Car Insurance', 'Credit': '-', 'Debit': '-$9,600.00', 'Balance': '$140,000.00'}]}\n",
      "2\n",
      "pre: []\n",
      "\n",
      "=====\n",
      "{'Account_Number': '321-987-654', 'Statement_Date': '2024-07-01', 'Period_Covered': '2024-06-01 to 2024-06-30', 'name': 'Emma Thompson', 'address_line1': '3342 Peaceful Ln, Suite 210', 'address_line2': 'Rochester, NY 14620', 'Opening_Balance': '85,000.00', 'Total_Credit_Amount': '45,000.00', 'Total_Debit_Amount': '20,000.00', 'Closing_Balance': '110,000.00', 'Account_Type': 'Checking', 'Number_Transactions': '7', 'transactions': [{'Date': '2024-06-02', 'Description': 'Local Market', 'Credit': '-', 'Debit': '-$500.00', 'Balance': '$84,500.00'}, {'Date': '2024-06-05', 'Description': 'Monthly Salary', 'Credit': '$40,000.00', 'Debit': '-', 'Balance': '$124,500.00'}, {'Date': '2024-06-10', 'Description': 'Mortgage Payment', 'Credit': '-', 'Debit': '-$15,000.00', 'Balance': '$109,500.00'}, {'Date': '2024-06-15', 'Description': 'Car Maintenance', 'Credit': '-', 'Debit': '-$1,000.00', 'Balance': '$108,500.00'}, {'Date': '2024-06-20', 'Description': 'Health Insurance', 'Credit': '-', 'Debit': '-$3,500.00', 'Balance': '$105,000.00'}, {'Date': '2024-06-25', 'Description': 'Freelance Income', 'Credit': '$5,000.00', 'Debit': '-', 'Balance': '$110,000.00'}]}\n",
      "3\n",
      "pre: []\n",
      "\n",
      "=====\n",
      "{'Account_Number': '852-963-741', 'Statement_Date': '2024-08-01', 'Period_Covered': '2024-07-01 to 2024-07-31', 'name': 'Sophia Martinez', 'address_line1': '6789 Dreamland Ave, Apt 101', 'address_line2': 'Orlando, FL 32801', 'Opening_Balance': '95,500.00', 'Total_Credit_Amount': '20,000.00', 'Total_Debit_Amount': '8,000.00', 'Closing_Balance': '107,500.00', 'Account_Type': 'Savings', 'Number_Transactions': '5', 'transactions': [{'Date': '2024-07-03', 'Description': 'Grocery Shopping', 'Credit': '-', 'Debit': '-$750.00', 'Balance': '$94,750.00'}, {'Date': '2024-07-10', 'Description': 'Salary Deposit', 'Credit': '$15,000.00', 'Debit': '-', 'Balance': '$109,750.00'}, {'Date': '2024-07-15', 'Description': 'Dental Insurance', 'Credit': '-', 'Debit': '-$500.00', 'Balance': '$109,250.00'}, {'Date': '2024-07-20', 'Description': 'Home Repair Services', 'Credit': '-', 'Debit': '-$6,750.00', 'Balance': '$102,500.00'}, {'Date': '2024-07-25', 'Description': 'Interest Payment', 'Credit': '$5,000.00', 'Debit': '-', 'Balance': '$107,500.00'}]}\n",
      "4\n"
     ]
    }
   ],
   "source": [
    "# generate multiple pdfs\n",
    "import json\n",
    "from agents.pdf_from_html import Gen_pdf\n",
    "gen_pdf_tool = Gen_pdf()\n",
    "\n",
    "bank_info = {}\n",
    "htmls = ['html/statement-template-0.html','html/statement-template-1.html','html/statement-template-2.html']\n",
    "history = ''\n",
    "for idx in range(1,5):\n",
    "    pdf_path = f'pdf/bs{idx}.pdf'\n",
    "    img_path=f'img/bk{idx}.png'\n",
    "    html_path = htmls[idx%3]\n",
    "    data = gen_pdf_tool(history=history, pdf_path=pdf_path, img_path=img_path, html_path=html_path)\n",
    "    bank_info[img_path] = data\n",
    "\n",
    "    history = history + str(data) + '\\n' \n",
    "    print(idx)\n",
    "\n",
    "with open('json/bank_info.json', 'w') as f:\n",
    "    json.dump(bank_info, f)"
   ]
  },
  {
   "cell_type": "code",
   "execution_count": 6,
   "metadata": {},
   "outputs": [],
   "source": [
    "# generate multiple pdfs\n",
    "import json\n",
    "from agents.pdf_from_html import Gen_pdf\n",
    "gen_pdf_tool = Gen_pdf()\n",
    "with open('json/bank_info.json', 'r') as f:\n",
    "    bank_info = json.load(f)\n",
    "\n",
    "loan_info = {}\n",
    "htmls = ['html/loan-template-0.html','html/loan-template-1.html']\n",
    "idx = 0\n",
    "for key in bank_info:\n",
    "    if idx >= 40:\n",
    "        user_information = json.dumps(bank_info[key])\n",
    "        pdf_path = f'pdf/loan{idx}.pdf'\n",
    "        img_path=f'img/loan{idx}.png'\n",
    "        html_path = htmls[idx%2]\n",
    "        \n",
    "        data = gen_pdf_tool.template(user_information=user_information, pdf_path=pdf_path, img_path=img_path, html_path=html_path)\n",
    "        loan_info[img_path] = data\n",
    "    \n",
    "    idx += 1\n",
    "\n",
    "with open('json/loan_info.json', 'w') as f:\n",
    "    json.dump(loan_info, f)"
   ]
  },
  {
   "cell_type": "markdown",
   "metadata": {},
   "source": [
    "# convert img to latex using mathpix"
   ]
  },
  {
   "cell_type": "code",
   "execution_count": 17,
   "metadata": {},
   "outputs": [
    {
     "name": "stdout",
     "output_type": "stream",
     "text": [
      "['/home/ubuntu/xiangpeng/NetMind_AI_XYZ/example/audit', '/home/ubuntu/miniconda3/envs/agent/lib/python310.zip', '/home/ubuntu/miniconda3/envs/agent/lib/python3.10', '/home/ubuntu/miniconda3/envs/agent/lib/python3.10/lib-dynload', '', '/home/ubuntu/miniconda3/envs/agent/lib/python3.10/site-packages', '/home/ubuntu/xiangpeng/NetMind_AI_XYZ']\n"
     ]
    }
   ],
   "source": [
    "from dotenv import load_dotenv\n",
    "import os\n",
    "from agents.mathpix import MathpixProcessor\n",
    "# Load the environment variables from the .env file\n",
    "load_dotenv()\n",
    "app_key = os.getenv('mathpix_app_key')\n",
    "app_id = os.getenv('mathpix_app_id')\n",
    "mathpix_processor = MathpixProcessor(app_id=app_id, app_key=app_key)"
   ]
  },
  {
   "cell_type": "code",
   "execution_count": 7,
   "metadata": {},
   "outputs": [
    {
     "name": "stdout",
     "output_type": "stream",
     "text": [
      "['img/bk31.png', 'img/loan25.png', 'img/bk48.png', 'img/loan46.png', 'img/bk13.png', 'img/loan43.png', 'img/bk34.png', 'img/bk47.png', 'img/bk25.png', 'img/bk44.png', 'img/bk14.png', 'img/loan45.png', 'img/loan22.png', 'img/loan1.png', 'img/bk20.png', 'img/loan17.png', 'img/loan39.png', 'img/bk29.png', 'img/bk16.png', 'img/loan10.png', 'img/bk3.png', 'img/loan9.png', 'img/loan29.png', 'img/loan33.png', 'img/loan3.png', 'img/bk15.png', 'img/bk23.png', 'img/loan16.png', 'img/loan19.png', 'img/loan12.png', 'img/loan2.png', 'img/bk24.png', 'img/loan4.png', 'img/loan18.png', 'img/bk35.png', 'img/loan41.png', 'img/loan31.png', 'img/bk9.png', 'img/bk30.png', 'img/loan36.png', 'img/bk27.png', 'img/bk28.png', 'img/bk11.png', 'img/bk21.png', 'img/loan42.png', 'img/loan20.png', 'img/bk49.png', 'img/bk37.png', 'img/loan14.png', 'img/bk22.png', 'img/loan44.png', 'img/loan47.png', 'img/bk18.png', 'img/bk7.png', 'img/loan34.png', 'img/loan32.png', 'img/bk42.png', 'img/loan26.png', 'img/loan5.png', 'img/bk17.png', 'img/loan28.png', 'img/loan48.png', 'img/bk38.png', 'img/loan13.png', 'img/loan35.png', 'img/bk5.png', 'img/loan21.png', 'img/loan30.png', 'img/loan27.png', 'img/loan15.png', 'img/bk39.png', 'img/loan7.png', 'img/loan37.png', 'img/bk10.png', 'img/bk45.png', 'img/bk32.png', 'img/bk33.png', 'img/bk12.png', 'img/loan23.png', 'img/loan24.png', 'img/bk19.png', 'img/bk46.png', 'img/loan0.png', 'img/bk41.png', 'img/bk43.png', 'img/bk4.png', 'img/bk6.png', 'img/bk1.png', 'img/bk2.png', 'img/loan11.png', 'img/loan8.png', 'img/bk26.png', 'img/loan40.png', 'img/bk36.png', 'img/loan6.png', 'img/bk40.png', 'img/loan38.png', 'img/bk8.png']\n"
     ]
    }
   ],
   "source": [
    "folder_path = 'img/'\n",
    "# List all files in the given folder\n",
    "files = [folder_path+file for file in os.listdir(folder_path) if os.path.isfile(os.path.join(folder_path, file))]\n",
    "print(files)"
   ]
  },
  {
   "cell_type": "code",
   "execution_count": 9,
   "metadata": {},
   "outputs": [],
   "source": [
    "import json\n",
    "\n",
    "latex_info = {}\n",
    "idx = 0\n",
    "for img_path in files:\n",
    "    text, images = mathpix_processor(image_path=img_path)\n",
    "    latex_info[img_path] = text\n",
    "    idx += 1\n",
    "    \n",
    "with open('json/latex_info.json', 'w') as f:\n",
    "    json.dump(latex_info, f)"
   ]
  },
  {
   "cell_type": "markdown",
   "metadata": {},
   "source": [
    "# fix error latex"
   ]
  },
  {
   "cell_type": "code",
   "execution_count": 3,
   "metadata": {},
   "outputs": [],
   "source": [
    "import json\n",
    "with open('json/latex_info.json', 'r') as f:\n",
    "    latex_info = json.load(f)"
   ]
  },
  {
   "cell_type": "code",
   "execution_count": 4,
   "metadata": {},
   "outputs": [],
   "source": [
    "# find all the error latex\n",
    "key_lst = []\n",
    "for key in latex_info:\n",
    "    if len(latex_info[key])<300:\n",
    "        key_lst.append(key)"
   ]
  },
  {
   "cell_type": "code",
   "execution_count": 6,
   "metadata": {},
   "outputs": [],
   "source": [
    "from PIL import Image\n",
    "import pytesseract\n",
    "\n",
    "for image_path in key_lst:\n",
    "    # Open the image file\n",
    "    img = Image.open(image_path)\n",
    "\n",
    "    # Perform OCR using pytesseract\n",
    "    text = pytesseract.image_to_string(img, lang='eng')\n",
    "    latex_info[image_path] = text\n",
    "\n",
    "with open('json/latex_info.json', 'w') as f:\n",
    "    json.dump(latex_info, f)\n"
   ]
  },
  {
   "cell_type": "markdown",
   "metadata": {},
   "source": [
    "# extract info with llm"
   ]
  },
  {
   "cell_type": "code",
   "execution_count": 16,
   "metadata": {},
   "outputs": [
    {
     "name": "stdout",
     "output_type": "stream",
     "text": [
      "['/home/ubuntu/xiangpeng/NetMind_AI_XYZ/example/audit', '/home/ubuntu/miniconda3/envs/agent/lib/python310.zip', '/home/ubuntu/miniconda3/envs/agent/lib/python3.10', '/home/ubuntu/miniconda3/envs/agent/lib/python3.10/lib-dynload', '', '/home/ubuntu/miniconda3/envs/agent/lib/python3.10/site-packages', '/home/ubuntu/xiangpeng/NetMind_AI_XYZ']\n",
      "['/home/ubuntu/xiangpeng/NetMind_AI_XYZ/example/audit', '/home/ubuntu/miniconda3/envs/agent/lib/python310.zip', '/home/ubuntu/miniconda3/envs/agent/lib/python3.10', '/home/ubuntu/miniconda3/envs/agent/lib/python3.10/lib-dynload', '', '/home/ubuntu/miniconda3/envs/agent/lib/python3.10/site-packages', '/home/ubuntu/xiangpeng/NetMind_AI_XYZ', '/home/ubuntu/xiangpeng/NetMind_AI_XYZ']\n"
     ]
    }
   ],
   "source": [
    "from agents.extract_info import Extract_info\n",
    "import json\n",
    "\n",
    "extract_tool = Extract_info()\n",
    "with open('json/latex_info.json', 'r') as f:\n",
    "    latex_info = json.load(f)\n",
    "\n",
    "extract_info = {}\n",
    "for key in latex_info:\n",
    "    text = latex_info[key]\n",
    "    data = extract_tool(text=text)\n",
    "    extract_info[key] = data\n",
    "with open('json/extract_info.json', 'w') as f:\n",
    "    json.dump(extract_info, f)"
   ]
  },
  {
   "cell_type": "markdown",
   "metadata": {},
   "source": [
    "# Compare with the true value"
   ]
  },
  {
   "cell_type": "code",
   "execution_count": 1,
   "metadata": {},
   "outputs": [
    {
     "name": "stdout",
     "output_type": "stream",
     "text": [
      "['/home/ubuntu/xiangpeng/NetMind_AI_XYZ/example/audit', '/home/ubuntu/miniconda3/envs/agent/lib/python310.zip', '/home/ubuntu/miniconda3/envs/agent/lib/python3.10', '/home/ubuntu/miniconda3/envs/agent/lib/python3.10/lib-dynload', '', '/home/ubuntu/miniconda3/envs/agent/lib/python3.10/site-packages', '/home/ubuntu/xiangpeng/NetMind_AI_XYZ']\n"
     ]
    }
   ],
   "source": [
    "from agents.evaluate import Evalutor\n",
    "import json\n",
    "\n",
    "evaluate_tool = Evalutor()\n",
    "\n",
    "with open('json/bank_info.json', 'r') as f:\n",
    "    bank_info = json.load(f)\n",
    "with open('json/loan_info.json', 'r') as f:\n",
    "    loan_info = json.load(f)\n",
    "with open('json/extract_info.json', 'r') as f:\n",
    "    extract_info = json.load(f)"
   ]
  },
  {
   "cell_type": "code",
   "execution_count": 7,
   "metadata": {},
   "outputs": [],
   "source": [
    "# record the result\n",
    "bank_eval_gpt4 = {}\n",
    "loan_eval_gpt4 = {}\n",
    "for key in extract_info:\n",
    "    data = extract_info[key]\n",
    "    if key in bank_info:\n",
    "        result = evaluate_tool(prediction=data, true=bank_info[key])\n",
    "        bank_eval_gpt4[key] = result\n",
    "    elif key in loan_info:\n",
    "        result = evaluate_tool(prediction=data, true=loan_info[key])\n",
    "        loan_eval_gpt4[key] = result\n",
    "\n",
    "with open('json/bank_eval_gpt4.json', 'w') as f:\n",
    "    json.dump(bank_eval_gpt4, f)\n",
    "with open('json/loan_eval_gpt4.json', 'w') as f: \n",
    "    json.dump(loan_eval_gpt4, f)"
   ]
  },
  {
   "cell_type": "code",
   "execution_count": 22,
   "metadata": {},
   "outputs": [
    {
     "data": {
      "text/plain": [
       "'100%'"
      ]
     },
     "execution_count": 22,
     "metadata": {},
     "output_type": "execute_result"
    }
   ],
   "source": [
    "data_dict = json.loads(bank_eval_gpt4[key])\n",
    "data_dict['accuracy']"
   ]
  },
  {
   "cell_type": "code",
   "execution_count": null,
   "metadata": {},
   "outputs": [],
   "source": []
  }
 ],
 "metadata": {
  "kernelspec": {
   "display_name": "agent",
   "language": "python",
   "name": "python3"
  },
  "language_info": {
   "codemirror_mode": {
    "name": "ipython",
    "version": 3
   },
   "file_extension": ".py",
   "mimetype": "text/x-python",
   "name": "python",
   "nbconvert_exporter": "python",
   "pygments_lexer": "ipython3",
   "version": "3.10.13"
  }
 },
 "nbformat": 4,
 "nbformat_minor": 2
}
